{
 "cells": [
  {
   "cell_type": "code",
   "execution_count": 1,
   "id": "2c4ca1af",
   "metadata": {},
   "outputs": [
    {
     "name": "stdout",
     "output_type": "stream",
     "text": [
      "Based on the summary 'Keywords: What are the...', we would now seek an answer.\n"
     ]
    },
    {
     "data": {
      "text/plain": [
       "'Processed: Keywords: What are the...'"
      ]
     },
     "execution_count": 1,
     "metadata": {},
     "output_type": "execute_result"
    }
   ],
   "source": [
    "# My custom tweak for Lesson 2\n",
    "\n",
    "from langsmith.run_helpers import traceable\n",
    "\n",
    "# This function will be the outer (parent) run\n",
    "@traceable(run_type=\"chain\")\n",
    "def process_query(user_query: str):\n",
    "    \"\"\"Processes a user query by first summarizing it and then getting an answer.\"\"\"\n",
    "    summary = summarize_query(user_query)\n",
    "    # In a real app, you might pass the summary to an LLM\n",
    "    print(f\"Based on the summary '{summary}', we would now seek an answer.\")\n",
    "    return f\"Processed: {summary}\"\n",
    "\n",
    "# This function will be the inner (child) run\n",
    "@traceable(run_type=\"tool\")\n",
    "def summarize_query(user_query: str):\n",
    "    \"\"\"Summarizes the user's query to its core components.\"\"\"\n",
    "    # A simple string manipulation to simulate a tool's work\n",
    "    keywords = \" \".join(user_query.split()[:3])\n",
    "    return f\"Keywords: {keywords}...\"\n",
    "\n",
    "# Let's run our parent function\n",
    "process_query(user_query=\"What are the main benefits of using LangSmith for LLM observability?\")"
   ]
  }
 ],
 "metadata": {
  "kernelspec": {
   "display_name": "ls-academy (3.13.7)",
   "language": "python",
   "name": "python3"
  },
  "language_info": {
   "codemirror_mode": {
    "name": "ipython",
    "version": 3
   },
   "file_extension": ".py",
   "mimetype": "text/x-python",
   "name": "python",
   "nbconvert_exporter": "python",
   "pygments_lexer": "ipython3",
   "version": "3.13.7"
  }
 },
 "nbformat": 4,
 "nbformat_minor": 5
}
