{
 "cells": [
  {
   "cell_type": "code",
   "execution_count": 2,
   "id": "c5ac5e4d",
   "metadata": {},
   "outputs": [
    {
     "name": "stdout",
     "output_type": "stream",
     "text": [
      "Once in a quaint village nestled between lush green hills and a crystal-clear river, there lived a young artist named Kai. Known for his vivid paintings that captured the essence of the countryside, Kai's work was admired by everyone in the village. However, despite his talent, Kai harbored a fear that weighed heavily on his heart: he was terrified of public speaking and thus never displayed his art in any gallery that required an opening speech. \n",
      "\n",
      "One day, an invitation arrived from a renowned art gallery in the city. They wanted to showcase Kai's work, an opportunity that most artists only dreamed of. But when Kai learned that he would have to give a speech at the opening, his excitement turned into dread. The thought of standing in front of a crowd and speaking paralyzed him. \n",
      "\n",
      "Determined not to let his fear hold him back, Kai decided to face his challenge head-on. He began by practicing in front of a mirror, speaking to his reflection about his art and the inspiration behind it. Still feeling uneasy, he sought advice from Malia, the village storyteller, known for captivating audiences with her tales.\n",
      "\n",
      "Malia shared with Kai the art of storytelling, teaching him to view his speech as another form of art, as a story he was telling about himself and his journey. She encouraged him to weave personal anecdotes into his speech to make it more relatable and genuine. With Malia's guidance, Kai practiced daily, gradually growing more comfortable with voicing his thoughts aloud.\n",
      "\n",
      "When the day of the gallery opening arrived, Kai felt a mix of excitement and nervousness. The gallery was filled with guests, and as the time drew near for his speech, a hush fell over the room. Taking a deep breath, he stepped up to the podium.\n",
      "\n",
      "With a heart full of determination and the memory of Malia's encouragement, Kai began to speak. Though his voice trembled at first, he soon found his rhythm. He shared stories of growing up in the village, the colors that inspired his palette, and the passion that drove him to paint.\n",
      "\n",
      "As he spoke, he noticed the audience leaning in, captivated not only by his art but also by his words. When he finished, the room erupted into applause, and Kai realized he had not just overcome his fear—he had transformed it into something beautiful.\n",
      "\n",
      "From that day forward, Kai embraced every opportunity to share his work and his voice, inspiring many with both his art and his journey. His story became a testament to the power of facing one's fears and the unexpected beauty that can arise when we step outside our comfort zones.\n"
     ]
    }
   ],
   "source": [
    "# My custom tweak for Lesson 1\n",
    "from dotenv import load_dotenv\n",
    "\n",
    "load_dotenv()\n",
    "\n",
    "from langchain_openai import ChatOpenAI\n",
    "from langchain_core.prompts import ChatPromptTemplate\n",
    "from langchain_core.output_parsers import StrOutputParser\n",
    "\n",
    "# Define a simple chain\n",
    "prompt = ChatPromptTemplate.from_template(\n",
    "    \"Tell me a short, inspiring story about a character named {character_name} who overcomes a challenge.\"\n",
    ")\n",
    "model = ChatOpenAI(model=\"gpt-4o\")\n",
    "output_parser = StrOutputParser()\n",
    "\n",
    "chain = prompt | model | output_parser\n",
    "\n",
    "# Invoke the chain with a custom character name\n",
    "# This will also be traced in Langsmith\n",
    "print(chain.invoke({\"character_name\": \"Kai\"}))"
   ]
  }
 ],
 "metadata": {
  "kernelspec": {
   "display_name": "ls-academy (3.13.7)",
   "language": "python",
   "name": "python3"
  },
  "language_info": {
   "codemirror_mode": {
    "name": "ipython",
    "version": 3
   },
   "file_extension": ".py",
   "mimetype": "text/x-python",
   "name": "python",
   "nbconvert_exporter": "python",
   "pygments_lexer": "ipython3",
   "version": "3.13.7"
  }
 },
 "nbformat": 4,
 "nbformat_minor": 5
}
