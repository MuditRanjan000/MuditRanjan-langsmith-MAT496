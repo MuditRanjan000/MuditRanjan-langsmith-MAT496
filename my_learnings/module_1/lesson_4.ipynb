{
 "cells": [
  {
   "cell_type": "code",
   "execution_count": null,
   "id": "e4e9b185",
   "metadata": {},
   "outputs": [
    {
     "data": {
      "text/plain": [
       "True"
      ]
     },
     "execution_count": 6,
     "metadata": {},
     "output_type": "execute_result"
    }
   ],
   "source": []
  },
  {
   "cell_type": "code",
   "execution_count": 7,
   "id": "a12364a0",
   "metadata": {},
   "outputs": [
    {
     "name": "stdout",
     "output_type": "stream",
     "text": [
      "Turn 1 - AI: Hello Alex! How can I assist you today?\n",
      "Turn 2 - AI: Your name is Alex.\n"
     ]
    }
   ],
   "source": [
    "# My custom tweak for Lesson 4\n",
    "\n",
    "from langsmith.run_trees import RunTree\n",
    "from langchain_openai import ChatOpenAI\n",
    "from langchain_core.messages import HumanMessage, AIMessage\n",
    "import uuid\n",
    "\n",
    "# This ID will link our two separate runs into one conversation thread\n",
    "conversation_id = str(uuid.uuid4())\n",
    "\n",
    "llm = ChatOpenAI(model=\"gpt-4o\")\n",
    "\n",
    "# --- First Turn in the Conversation ---\n",
    "# The user introduces themselves.\n",
    "rt_1 = RunTree(\n",
    "    name=\"Chat Turn 1\",\n",
    "    run_type=\"chain\",\n",
    "    inputs={\"question\": \"Hi, my name is Alex.\"},\n",
    "    # We set the thread ID here\n",
    "    extra={\"thread_ts\": conversation_id} \n",
    ")\n",
    "\n",
    "# We create a very simple \"memory\" for our chat\n",
    "chat_history_1 = [\n",
    "    HumanMessage(content=\"Hi, my name is Alex.\")\n",
    "]\n",
    "response_1 = llm.invoke(chat_history_1)\n",
    "chat_history_1.append(response_1)\n",
    "\n",
    "rt_1.end(outputs={\"answer\": response_1.content})\n",
    "rt_1.post()\n",
    "print(f\"Turn 1 - AI: {response_1.content}\")\n",
    "\n",
    "\n",
    "# --- Second Turn in the Conversation ---\n",
    "# The user asks the AI to remember their name.\n",
    "rt_2 = RunTree(\n",
    "    name=\"Chat Turn 2\",\n",
    "    run_type=\"chain\",\n",
    "    inputs={\"question\": \"What is my name?\"},\n",
    "    # We use the SAME thread ID to link it to the first turn\n",
    "    extra={\"thread_ts\": conversation_id} \n",
    ")\n",
    "\n",
    "# The chat history now includes the first turn\n",
    "chat_history_2 = chat_history_1 + [\n",
    "    HumanMessage(content=\"What is my name?\")\n",
    "]\n",
    "response_2 = llm.invoke(chat_history_2)\n",
    "\n",
    "rt_2.end(outputs={\"answer\": response_2.content})\n",
    "rt_2.post()\n",
    "print(f\"Turn 2 - AI: {response_2.content}\")"
   ]
  }
 ],
 "metadata": {
  "kernelspec": {
   "display_name": "ls-academy (3.13.7)",
   "language": "python",
   "name": "python3"
  },
  "language_info": {
   "codemirror_mode": {
    "name": "ipython",
    "version": 3
   },
   "file_extension": ".py",
   "mimetype": "text/x-python",
   "name": "python",
   "nbconvert_exporter": "python",
   "pygments_lexer": "ipython3",
   "version": "3.13.7"
  }
 },
 "nbformat": 4,
 "nbformat_minor": 5
}
