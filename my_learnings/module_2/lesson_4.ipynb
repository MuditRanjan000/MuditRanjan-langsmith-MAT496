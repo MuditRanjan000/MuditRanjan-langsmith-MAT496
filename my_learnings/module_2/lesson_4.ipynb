{
 "cells": [
  {
   "cell_type": "code",
   "execution_count": 1,
   "id": "f1383a1e",
   "metadata": {},
   "outputs": [
    {
     "ename": "ImportError",
     "evalue": "cannot import name 'EvaluationConfig' from 'langchain.smith' (c:\\Users\\dell\\Documents\\CODES\\LangSmith\\ls-academy\\Lib\\site-packages\\langchain\\smith\\__init__.py)",
     "output_type": "error",
     "traceback": [
      "\u001b[31m---------------------------------------------------------------------------\u001b[39m",
      "\u001b[31mImportError\u001b[39m                               Traceback (most recent call last)",
      "\u001b[36mCell\u001b[39m\u001b[36m \u001b[39m\u001b[32mIn[1]\u001b[39m\u001b[32m, line 11\u001b[39m\n\u001b[32m      9\u001b[39m \u001b[38;5;28;01mfrom\u001b[39;00m\u001b[38;5;250m \u001b[39m\u001b[34;01mlangchain_core\u001b[39;00m\u001b[34;01m.\u001b[39;00m\u001b[34;01mprompts\u001b[39;00m\u001b[38;5;250m \u001b[39m\u001b[38;5;28;01mimport\u001b[39;00m PromptTemplate\n\u001b[32m     10\u001b[39m \u001b[38;5;28;01mfrom\u001b[39;00m\u001b[38;5;250m \u001b[39m\u001b[34;01mlangsmith\u001b[39;00m\u001b[34;01m.\u001b[39;00m\u001b[34;01mevaluation\u001b[39;00m\u001b[38;5;250m \u001b[39m\u001b[38;5;28;01mimport\u001b[39;00m LangChainStringEvaluator\n\u001b[32m---> \u001b[39m\u001b[32m11\u001b[39m \u001b[38;5;28;01mfrom\u001b[39;00m\u001b[38;5;250m \u001b[39m\u001b[34;01mlangchain\u001b[39;00m\u001b[34;01m.\u001b[39;00m\u001b[34;01msmith\u001b[39;00m\u001b[38;5;250m \u001b[39m\u001b[38;5;28;01mimport\u001b[39;00m EvaluationConfig, run_on_dataset\n\u001b[32m     13\u001b[39m \u001b[38;5;66;03m# --- Setup ---\u001b[39;00m\n\u001b[32m     14\u001b[39m load_dotenv()\n",
      "\u001b[31mImportError\u001b[39m: cannot import name 'EvaluationConfig' from 'langchain.smith' (c:\\Users\\dell\\Documents\\CODES\\LangSmith\\ls-academy\\Lib\\site-packages\\langchain\\smith\\__init__.py)"
     ]
    }
   ],
   "source": [
    "import os\n",
    "import pandas as pd\n",
    "from dotenv import load_dotenv\n",
    "from typing import Any, Optional\n",
    "\n",
    "from langsmith import Client\n",
    "from langchain_openai import ChatOpenAI\n",
    "from langchain.chains import LLMChain\n",
    "from langchain_core.prompts import PromptTemplate\n",
    "from langsmith.evaluation import LangChainStringEvaluator\n",
    "from langchain.smith import EvaluationConfig, run_on_dataset\n",
    "\n",
    "# --- Setup ---\n",
    "load_dotenv()\n",
    "client = Client()\n",
    "\n",
    "# --- Prerequisite: Run the Experiment from Lesson 3 ---\n",
    "# This part creates the experiment we need to analyze.\n",
    "print(\"--- Running Prerequisite Experiment (from Lesson 3) ---\")\n",
    "experiment_project_name = \"Experiment: Final Local Model Comparison\"\n",
    "\n",
    "def is_concise(run, example) -> dict:\n",
    "    llm_output = run.outputs.get(\"text\")\n",
    "    if llm_output is None: return {\"key\": \"is_concise\", \"score\": 0}\n",
    "    return {\"key\": \"is_concise\", \"score\": int(len(llm_output) < 75)}\n",
    "\n",
    "custom_evaluator = LangChainStringEvaluator([is_concise])\n",
    "eval_config = EvaluationConfig(evaluators=[custom_evaluator])\n",
    "summary_prompt = PromptTemplate.from_template(\"Summarize the following article in one sentence: {article}\")\n",
    "\n",
    "# Run for GPT-3.5-Turbo\n",
    "summary_chain_gpt3 = LLMChain(llm=ChatOpenAI(model=\"gpt-3.5-turbo\", temperature=0), prompt=summary_prompt)\n",
    "run_on_dataset(client=client, dataset_name=\"Article Summaries\", llm_or_chain_factory=summary_chain_gpt3, evaluation=eval_config, project_name=experiment_project_name)\n",
    "print(\"Finished evaluation for gpt-3.5-turbo.\")\n",
    "\n",
    "# Run for GPT-4o\n",
    "summary_chain_gpt4 = LLMChain(llm=ChatOpenAI(model=\"gpt-4o\", temperature=0), prompt=summary_prompt)\n",
    "run_on_dataset(client=client, dataset_name=\"Article Summaries\", llm_or_chain_factory=summary_chain_gpt4, evaluation=eval_config, project_name=experiment_project_name)\n",
    "print(\"Finished evaluation for gpt-4o.\")\n",
    "print(f\"\\nExperiment complete! View results in project: '{experiment_project_name}'\")\n",
    "print(\"-\" * 50)\n",
    "\n",
    "\n",
    "# --- Lesson 4: Analyze Experiment Results ---\n",
    "# This is the new part for this lesson.\n",
    "print(\"\\n--- Analyzing Experiment Results (Lesson 4) ---\")\n",
    "\n",
    "# Use a try-except block to handle potential errors gracefully\n",
    "try:\n",
    "    # Retrieve the results from the experiment we just ran\n",
    "    experiment_results = client.get_experiment_results(project_name=experiment_project_name)\n",
    "\n",
    "    # Display the results in a structured table using pandas\n",
    "    results_df = pd.DataFrame(experiment_results[\"results\"])\n",
    "    print(\"Displaying experiment results:\")\n",
    "    display(results_df)\n",
    "    print(\"\\n✅ Analysis complete.\")\n",
    "\n",
    "except Exception as e:\n",
    "    print(f\"\\n❌ FAILED to analyze results due to an error: {e}\")"
   ]
  }
 ],
 "metadata": {
  "kernelspec": {
   "display_name": "ls-academy (3.13.7)",
   "language": "python",
   "name": "python3"
  },
  "language_info": {
   "codemirror_mode": {
    "name": "ipython",
    "version": 3
   },
   "file_extension": ".py",
   "mimetype": "text/x-python",
   "name": "python",
   "nbconvert_exporter": "python",
   "pygments_lexer": "ipython3",
   "version": "3.13.7"
  }
 },
 "nbformat": 4,
 "nbformat_minor": 5
}
