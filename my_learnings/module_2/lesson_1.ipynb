{
 "cells": [
  {
   "cell_type": "code",
   "execution_count": 1,
   "id": "962c4a7e",
   "metadata": {},
   "outputs": [
    {
     "name": "stdout",
     "output_type": "stream",
     "text": [
      "--- Creating Q&A Dataset ---\n",
      "Successfully created 'LangSmith Docs Q&A' and uploaded examples.\n",
      "\n",
      "--- Creating Summarization Dataset (My Tweak) ---\n",
      "Successfully created 'Article Summaries' and uploaded examples.\n"
     ]
    }
   ],
   "source": [
    "import os\n",
    "from dotenv import load_dotenv\n",
    "from langsmith import Client\n",
    "\n",
    "# --- Setup ---\n",
    "# Load environment variables from your .env file\n",
    "load_dotenv()\n",
    "\n",
    "# Initialize the LangSmith client\n",
    "client = Client()\n",
    "\n",
    "# --- Part 1: Create a Q&A Dataset (from the lesson) ---\n",
    "print(\"--- Creating Q&A Dataset ---\")\n",
    "qa_dataset_name = \"LangSmith Docs Q&A\"\n",
    "\n",
    "# The data for our first dataset\n",
    "qa_examples = [\n",
    "    (\"How do I set up tracing to LangSmith if I'm using LangChain?\", \"Set the `LANGCHAIN_TRACING_V2` env var to 'true' and ensure your `LANGCHAIN_API_KEY` is set.\"),\n",
    "    (\"What testing capabilities does LangSmith have?\", \"LangSmith allows you to create datasets of inputs and reference outputs to test LLM applications.\"),\n",
    "]\n",
    "\n",
    "# Create the dataset\n",
    "qa_dataset = client.create_dataset(\n",
    "    dataset_name=qa_dataset_name,\n",
    "    description=\"Questions and answers about LangSmith.\"\n",
    ")\n",
    "\n",
    "# Prepare inputs and outputs for bulk creation\n",
    "qa_inputs = [{\"question\": question} for question, _ in qa_examples]\n",
    "qa_outputs = [{\"answer\": answer} for _, answer in qa_examples]\n",
    "\n",
    "# Add the examples to the dataset\n",
    "client.create_examples(\n",
    "    inputs=qa_inputs,\n",
    "    outputs=qa_outputs,\n",
    "    dataset_id=qa_dataset.id,\n",
    ")\n",
    "print(f\"Successfully created '{qa_dataset_name}' and uploaded examples.\")\n",
    "\n",
    "\n",
    "# --- Part 2: My Custom Tweak - A Summarization Dataset ---\n",
    "print(\"\\n--- Creating Summarization Dataset (My Tweak) ---\")\n",
    "summary_dataset_name = \"Article Summaries\"\n",
    "\n",
    "# My custom data for a different kind of evaluation\n",
    "summary_examples = [\n",
    "    (\n",
    "        \"AI is transforming industries worldwide. From automating tasks in manufacturing to personalizing customer experiences in retail, its impact is undeniable. The field is rapidly evolving with new breakthroughs in machine learning and neural networks.\",\n",
    "        \"AI is revolutionizing global industries through automation and personalization, driven by advances in machine learning.\"\n",
    "    ),\n",
    "    (\n",
    "        \"The global push for renewable energy is gaining momentum. Solar and wind power are becoming increasingly cost-competitive with traditional fossil fuels. This shift is crucial for combating climate change and ensuring a sustainable future.\",\n",
    "        \"Renewable energy sources like solar and wind are becoming more affordable, which is vital for fighting climate change.\"\n",
    "    )\n",
    "]\n",
    "\n",
    "# Create the second dataset\n",
    "summary_dataset = client.create_dataset(\n",
    "    dataset_name=summary_dataset_name,\n",
    "    description=\"Articles and their one-sentence summaries for evaluation.\"\n",
    ")\n",
    "\n",
    "# Prepare inputs and outputs with different keys\n",
    "summary_inputs = [{\"article\": article} for article, _ in summary_examples]\n",
    "summary_outputs = [{\"summary\": summary} for _, summary in summary_examples]\n",
    "\n",
    "# Add the new examples to the new dataset\n",
    "client.create_examples(\n",
    "    inputs=summary_inputs,\n",
    "    outputs=summary_outputs,\n",
    "    dataset_id=summary_dataset.id,\n",
    ")\n",
    "print(f\"Successfully created '{summary_dataset_name}' and uploaded examples.\")"
   ]
  }
 ],
 "metadata": {
  "kernelspec": {
   "display_name": "ls-academy (3.13.7)",
   "language": "python",
   "name": "python3"
  },
  "language_info": {
   "codemirror_mode": {
    "name": "ipython",
    "version": 3
   },
   "file_extension": ".py",
   "mimetype": "text/x-python",
   "name": "python",
   "nbconvert_exporter": "python",
   "pygments_lexer": "ipython3",
   "version": "3.13.7"
  }
 },
 "nbformat": 4,
 "nbformat_minor": 5
}
