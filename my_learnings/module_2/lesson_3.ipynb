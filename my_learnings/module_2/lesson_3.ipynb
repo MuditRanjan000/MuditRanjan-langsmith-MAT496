{
 "cells": [
  {
   "cell_type": "code",
   "execution_count": 1,
   "id": "2cff2146",
   "metadata": {},
   "outputs": [
    {
     "ename": "ImportError",
     "evalue": "cannot import name 'EvaluationConfig' from 'langchain.smith' (c:\\Users\\dell\\Documents\\CODES\\LangSmith\\ls-academy\\Lib\\site-packages\\langchain\\smith\\__init__.py)",
     "output_type": "error",
     "traceback": [
      "\u001b[31m---------------------------------------------------------------------------\u001b[39m",
      "\u001b[31mImportError\u001b[39m                               Traceback (most recent call last)",
      "\u001b[36mCell\u001b[39m\u001b[36m \u001b[39m\u001b[32mIn[1]\u001b[39m\u001b[32m, line 10\u001b[39m\n\u001b[32m      8\u001b[39m \u001b[38;5;28;01mfrom\u001b[39;00m\u001b[38;5;250m \u001b[39m\u001b[34;01mlangchain_core\u001b[39;00m\u001b[34;01m.\u001b[39;00m\u001b[34;01mprompts\u001b[39;00m\u001b[38;5;250m \u001b[39m\u001b[38;5;28;01mimport\u001b[39;00m PromptTemplate\n\u001b[32m      9\u001b[39m \u001b[38;5;28;01mfrom\u001b[39;00m\u001b[38;5;250m \u001b[39m\u001b[34;01mlangsmith\u001b[39;00m\u001b[34;01m.\u001b[39;00m\u001b[34;01mevaluation\u001b[39;00m\u001b[38;5;250m \u001b[39m\u001b[38;5;28;01mimport\u001b[39;00m LangChainStringEvaluator\n\u001b[32m---> \u001b[39m\u001b[32m10\u001b[39m \u001b[38;5;28;01mfrom\u001b[39;00m\u001b[38;5;250m \u001b[39m\u001b[34;01mlangchain\u001b[39;00m\u001b[34;01m.\u001b[39;00m\u001b[34;01msmith\u001b[39;00m\u001b[38;5;250m \u001b[39m\u001b[38;5;28;01mimport\u001b[39;00m EvaluationConfig, run_on_dataset\n\u001b[32m     12\u001b[39m \u001b[38;5;66;03m# --- Setup ---\u001b[39;00m\n\u001b[32m     13\u001b[39m load_dotenv()\n",
      "\u001b[31mImportError\u001b[39m: cannot import name 'EvaluationConfig' from 'langchain.smith' (c:\\Users\\dell\\Documents\\CODES\\LangSmith\\ls-academy\\Lib\\site-packages\\langchain\\smith\\__init__.py)"
     ]
    }
   ],
   "source": [
    "import os\n",
    "from dotenv import load_dotenv\n",
    "from typing import Any, Optional\n",
    "\n",
    "from langsmith import Client\n",
    "from langchain_openai import ChatOpenAI\n",
    "from langchain.chains import LLMChain\n",
    "from langchain_core.prompts import PromptTemplate\n",
    "from langsmith.evaluation import LangChainStringEvaluator\n",
    "from langchain.smith import EvaluationConfig, run_on_dataset\n",
    "\n",
    "# --- Setup ---\n",
    "load_dotenv()\n",
    "client = Client()\n",
    "\n",
    "# --- My Custom Tweak: An Experiment to Compare Two Models ---\n",
    "print(\"--- Starting Experiment: GPT-3.5-Turbo vs. GPT-4o ---\")\n",
    "experiment_project_name = \"Experiment: Summarizer Model Comparison\"\n",
    "\n",
    "def is_concise(run, example) -> dict:\n",
    "    llm_output = run.outputs.get(\"text\")\n",
    "    if llm_output is None: return {\"key\": \"is_concise\", \"score\": 0}\n",
    "    return {\"key\": \"is_concise\", \"score\": int(len(llm_output) < 75)}\n",
    "\n",
    "custom_evaluator = LangChainStringEvaluator([is_concise])\n",
    "eval_config = EvaluationConfig(evaluators=[custom_evaluator])\n",
    "summary_prompt = PromptTemplate.from_template(\"Summarize the following article in one sentence: {article}\")\n",
    "\n",
    "# --- Test Run 1: Using GPT-3.5-Turbo ---\n",
    "print(\"Running evaluation for gpt-3.5-turbo...\")\n",
    "summary_chain_gpt3 = LLMChain(llm=ChatOpenAI(model=\"gpt-3.5-turbo\", temperature=0), prompt=summary_prompt)\n",
    "run_on_dataset(\n",
    "    client=client,\n",
    "    dataset_name=\"Article Summaries\",\n",
    "    llm_or_chain_factory=summary_chain_gpt3,\n",
    "    evaluation=eval_config,\n",
    "    project_name=experiment_project_name,\n",
    ")\n",
    "print(\"Finished evaluation for gpt-3.5-turbo.\")\n",
    "\n",
    "# --- Test Run 2: Using GPT-4o ---\n",
    "print(\"\\nRunning evaluation for gpt-4o...\")\n",
    "summary_chain_gpt4 = LLMChain(llm=ChatOpenAI(model=\"gpt-4o\", temperature=0), prompt=summary_prompt)\n",
    "run_on_dataset(\n",
    "    client=client,\n",
    "    dataset_name=\"Article Summaries\",\n",
    "    llm_or_chain_factory=summary_chain_gpt4,\n",
    "    evaluation=eval_config,\n",
    "    project_name=experiment_project_name,\n",
    ")\n",
    "print(\"Finished evaluation for gpt-4o.\")\n",
    "print(f\"\\nExperiment complete! View results in project: '{experiment_project_name}'\")"
   ]
  }
 ],
 "metadata": {
  "kernelspec": {
   "display_name": "ls-academy (3.13.7)",
   "language": "python",
   "name": "python3"
  },
  "language_info": {
   "codemirror_mode": {
    "name": "ipython",
    "version": 3
   },
   "file_extension": ".py",
   "mimetype": "text/x-python",
   "name": "python",
   "nbconvert_exporter": "python",
   "pygments_lexer": "ipython3",
   "version": "3.13.7"
  }
 },
 "nbformat": 4,
 "nbformat_minor": 5
}
